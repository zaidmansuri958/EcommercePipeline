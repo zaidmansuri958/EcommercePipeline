{
 "cells": [
  {
   "cell_type": "code",
   "execution_count": null,
   "id": "198d82fe",
   "metadata": {},
   "outputs": [],
   "source": [
    "from pyspark.sql import SparkSession\n",
    "from pyspark.sql.types import *\n",
    "from datetime import datetime"
   ]
  },
  {
   "cell_type": "code",
   "execution_count": null,
   "id": "0c28fbef",
   "metadata": {},
   "outputs": [],
   "source": [
    "spark=SparkSession.builder \\\n",
    "    .appName(\"Orders Pipeline\") \\\n",
    "    .getOrCreate()"
   ]
  },
  {
   "cell_type": "code",
   "execution_count": null,
   "id": "1d195b1f",
   "metadata": {},
   "outputs": [],
   "source": [
    "OrderSchema=StructType([\n",
    "    StructField(\"order_id\",StringType(),False),\n",
    "    StructField(\"customer_id\",StringType(),False),\n",
    "    StructField(\"order_status\",StringType(),True),\n",
    "    StructField(\"order_purchase_timestamp\",TimeStampType(),True),\n",
    "    StructField(\"order_approved_at\",TimeStampType(),True),\n",
    "    StructField(\"order_delivered_carrier_date\",TimeStampType(),True),\n",
    "    StructField(\"order_delivered_customer_date\",TimeStampType(),True),\n",
    "    StructField(\"order_estimated_delivery_date\",TimeStampType(),True),\n",
    "])\n",
    "\n",
    "CustomerSchema=StructType([\n",
    "    StructField(\"customer_id\",StringType(),False),\n",
    "    StructField(\"customer_unique_id\",StringType(),False),\n",
    "    StructField(\"customer_zip_code_prefix\",IntegerType(),False),\n",
    "    StructField(\"customer_city\",StringType(),False),\n",
    "    StructField(\"customer_state\",StringType(),False),\n",
    "])\n",
    "\n",
    "PaymentSchema=StructType([\n",
    "    StructField(\"order_id\",StringType(),False),\n",
    "    StructField(\"payment_sequential\",IntegerType(),True),\n",
    "    StructField(\"payment_type\",StringType(),True),\n",
    "    StructField(\"payment_installments\",IntegerType(),True),       \n",
    "    StructField(\"payment_value\",DoubleType(),True),\n",
    "])\n",
    "\n",
    "ProductSchema=StructType([\n",
    "    StructField(\"product_id\",StringType(),False),\n",
    "    StructField(\"product_category_name\",StringName(),True),\n",
    "    StructField(\"product_name_lenght\",IntegerType(),True),\n",
    "    StructField(\"product_description_lenght\",IntegerType(),True),       \n",
    "    StructField(\"product_photos_qty\",IntegerType(),True),\n",
    "    StructField(\"product_weight_g\",IntegerType(),True),\n",
    "    StructField(\"product_length_cm\",IntegerType(),True),\n",
    "    StructField(\"product_height_cm\",IntegerType(),True),\n",
    "    StructField(\"product_width_cm\",IntegerType(),True),\n",
    "\n",
    "])\n",
    "\n",
    "ReviewsSchema=StructType([\n",
    "    StructField(\"review_id\",StringType(),False),\n",
    "    StructField(\"order_id\",StringType(),True),\n",
    "    StructField(\"review_score\",IntegerType(),True),\n",
    "    StructField(\"review_comment_title\",StringType(),True),\n",
    "    StructField(\"review_comment_message\",StringType(),True),\n",
    "    StructField(\"review_creation_date\",TimeStampType(),True),\n",
    "    StructField(\"review_answer_timestamp\",TimeStampType(),True),\n",
    "])\n",
    "\n",
    "order_path=\"data/order_dataset.csv\"\n",
    "customer_path=\"data/customers_dataset.csv\"\n",
    "product_path=\"data/products_dataset.csv\"\n",
    "payment_path=\"/data/order_payments_dataset.csv\"\n",
    "reviews_path=\"/data/order_reviews_dataset.csv\"\n",
    "order_df=spark.read.format('csv').option('header','true').option('inferSchema','false').option('failfast','true').schema(OrderSchema).load(order_path)\n",
    "customer_df=spark.read.format('csv').option('header','true').option('inferSchema','false').option('failfast','true').schema(CustomerSchema).load(customer_path)\n",
    "payment_df=spark.read.format('csv').option('header','true').option('inferSchema','false').option('failfast','true').schema(PaymentSchema).load(payment_path)\n",
    "product_df=spark.read.format('csv').option('header','true').option('inferSchema','false').option('failfast','true').schema(ProductSchema).load(product_path)\n",
    "reviews_df=spark.read.format('csv').option('header','true').option('inferSchema','false').option('failfast','true').schema(ReviewsSchema).load(reviews_path)"
   ]
  },
  {
   "cell_type": "code",
   "execution_count": null,
   "id": "2498e981",
   "metadata": {},
   "outputs": [],
   "source": [
    "order_df.printSchema()\n",
    "order_df.show(5)"
   ]
  },
  {
   "cell_type": "code",
   "execution_count": null,
   "id": "6586b35e",
   "metadata": {},
   "outputs": [],
   "source": [
    "orders_with_customer=order_df.join(customer_df,on='customer_id',how='inner')"
   ]
  },
  {
   "cell_type": "code",
   "execution_count": null,
   "id": "bb308975",
   "metadata": {},
   "outputs": [],
   "source": [
    "orders_by_city=orders_with_customer.groupby('customer_city')"
   ]
  },
  {
   "cell_type": "code",
   "execution_count": null,
   "id": "f92e6352",
   "metadata": {},
   "outputs": [],
   "source": [
    "orders_by_state=orders_with_customer.groupby('customer_state')"
   ]
  }
 ],
 "metadata": {
  "kernelspec": {
   "display_name": "Python 3",
   "language": "python",
   "name": "python3"
  },
  "language_info": {
   "codemirror_mode": {
    "name": "ipython",
    "version": 3
   },
   "file_extension": ".py",
   "mimetype": "text/x-python",
   "name": "python",
   "nbconvert_exporter": "python",
   "pygments_lexer": "ipython3",
   "version": "3.10.0"
  }
 },
 "nbformat": 4,
 "nbformat_minor": 5
}
